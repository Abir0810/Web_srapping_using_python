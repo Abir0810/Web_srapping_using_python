{
 "cells": [
  {
   "cell_type": "code",
   "execution_count": 1,
   "id": "61b00c7e-7a0f-4334-8149-34942c20bd3e",
   "metadata": {},
   "outputs": [
    {
     "name": "stdin",
     "output_type": "stream",
     "text": [
      "Enter the URL (or type 'exit' to quit):  https://www.ipcnet.org/exporters/?pid=0&aid=0&cid=0\n"
     ]
    },
    {
     "name": "stdout",
     "output_type": "stream",
     "text": [
      "Data from https://www.ipcnet.org/exporters/?pid=0&aid=0&cid=0 has been saved to 'company_data.xlsx'.\n"
     ]
    },
    {
     "name": "stdin",
     "output_type": "stream",
     "text": [
      "Enter the URL (or type 'exit' to quit):  https://www.ipcnet.org/exporters/page/2/?pid=0&aid=0&cid=0\n"
     ]
    },
    {
     "name": "stdout",
     "output_type": "stream",
     "text": [
      "Data from https://www.ipcnet.org/exporters/page/2/?pid=0&aid=0&cid=0 has been saved to 'company_data.xlsx'.\n"
     ]
    },
    {
     "name": "stdin",
     "output_type": "stream",
     "text": [
      "Enter the URL (or type 'exit' to quit):  exit\n"
     ]
    },
    {
     "name": "stdout",
     "output_type": "stream",
     "text": [
      "Exiting...\n"
     ]
    }
   ],
   "source": [
    "import requests\n",
    "from bs4 import BeautifulSoup\n",
    "import pandas as pd\n",
    "import os\n",
    "\n",
    "def fetch_company_data(url):\n",
    "    # Send a request to the specified URL\n",
    "    response = requests.get(url)\n",
    "\n",
    "    # Check if the request was successful\n",
    "    if response.status_code != 200:\n",
    "        print(\"Failed to retrieve the webpage\")\n",
    "        return []\n",
    "\n",
    "    # Parse the content using BeautifulSoup\n",
    "    soup = BeautifulSoup(response.content, 'html.parser')\n",
    "\n",
    "    # Find all divs with the class that wraps company info\n",
    "    company_divs = soup.find_all('div', class_='company-info')  # Adjust this class if needed\n",
    "\n",
    "    # Create a list to store the extracted data\n",
    "    data_list = []\n",
    "\n",
    "    # Loop through each div and extract the required information\n",
    "    for company_info in company_divs:\n",
    "        # Extract company name\n",
    "        company_name = company_info.find('h5').text.strip() if company_info.find('h5') else 'N/A'\n",
    "        \n",
    "        # Extract contact person\n",
    "        contact_person = company_info.find_all('p')[0].text.strip() if company_info.find_all('p') else 'N/A'\n",
    "        \n",
    "        # Extract email\n",
    "        email_tag = company_info.find('a', href=True)\n",
    "        email = email_tag.text.strip() if email_tag else 'N/A'\n",
    "        \n",
    "        # Extract all <p> tags\n",
    "        p_tags = company_info.find_all('p')\n",
    "        \n",
    "        # Extract phone number, registration date, and views\n",
    "        phone = p_tags[2].text.strip() if len(p_tags) > 2 else 'N/A'\n",
    "        date = p_tags[3].text.strip() if len(p_tags) > 3 else 'N/A'\n",
    "        view = p_tags[4].text.strip() if len(p_tags) > 4 else 'N/A'\n",
    "        \n",
    "        # Append data for the current company as a row\n",
    "        data_list.append([company_name, contact_person, email, phone, date, view])\n",
    "\n",
    "    return data_list\n",
    "\n",
    "def save_to_excel(data, filename):\n",
    "    # Check if the file already exists\n",
    "    if os.path.exists(filename):\n",
    "        # If the file exists, load the existing data\n",
    "        existing_data = pd.read_excel(filename)\n",
    "        \n",
    "        # Convert the new data into a DataFrame\n",
    "        new_data = pd.DataFrame(data, columns=['Company Name', 'Contact Person', 'Email', 'Phone', 'Registration Date', 'Views'])\n",
    "        \n",
    "        # Append the new data to the existing data\n",
    "        updated_data = pd.concat([existing_data, new_data], ignore_index=True)\n",
    "    else:\n",
    "        # If the file doesn't exist, create a new DataFrame\n",
    "        updated_data = pd.DataFrame(data, columns=['Company Name', 'Contact Person', 'Email', 'Phone', 'Registration Date', 'Views'])\n",
    "    \n",
    "    # Save the updated data to the Excel file\n",
    "    updated_data.to_excel(filename, index=False)\n",
    "\n",
    "# Specify the Excel file name\n",
    "filename = 'company_data.xlsx'\n",
    "\n",
    "while True:\n",
    "    # Ask the user to input the URL (or type 'exit' to quit)\n",
    "    url = input(\"Enter the URL (or type 'exit' to quit): \")\n",
    "    \n",
    "    if url.lower() == 'exit':\n",
    "        print(\"Exiting...\")\n",
    "        break\n",
    "\n",
    "    # Fetch company data from the provided URL\n",
    "    company_data = fetch_company_data(url)\n",
    "    \n",
    "    # Save the fetched data to the Excel file\n",
    "    save_to_excel(company_data, filename)\n",
    "    \n",
    "    print(f\"Data from {url} has been saved to '{filename}'.\")"
   ]
  },
  {
   "cell_type": "markdown",
   "id": "b214da00-792f-49c4-b688-ee591f10a47f",
   "metadata": {},
   "source": [
    "## Final Column wise web with page gap"
   ]
  },
  {
   "cell_type": "code",
   "execution_count": 14,
   "id": "a965cb6d-4db9-4b29-b297-8d87a155b516",
   "metadata": {},
   "outputs": [
    {
     "name": "stdin",
     "output_type": "stream",
     "text": [
      "Enter the URL (or type 'exit' to quit):  https://www.ipcnet.org/exporters/?pid=0&aid=0&cid=0\n"
     ]
    },
    {
     "name": "stdout",
     "output_type": "stream",
     "text": [
      "Data from https://www.ipcnet.org/exporters/?pid=0&aid=0&cid=0 has been saved to 'company_data.xlsx'.\n"
     ]
    },
    {
     "name": "stdin",
     "output_type": "stream",
     "text": [
      "Enter the URL (or type 'exit' to quit):  https://www.ipcnet.org/exporters/page/2/?pid=0&aid=0&cid=0\n"
     ]
    },
    {
     "name": "stdout",
     "output_type": "stream",
     "text": [
      "Data from https://www.ipcnet.org/exporters/page/2/?pid=0&aid=0&cid=0 has been saved to 'company_data.xlsx'.\n"
     ]
    },
    {
     "name": "stdin",
     "output_type": "stream",
     "text": [
      "Enter the URL (or type 'exit' to quit):  https://www.ipcnet.org/exporters/page/3/?pid=0&aid=0&cid=0\n"
     ]
    },
    {
     "name": "stdout",
     "output_type": "stream",
     "text": [
      "Data from https://www.ipcnet.org/exporters/page/3/?pid=0&aid=0&cid=0 has been saved to 'company_data.xlsx'.\n"
     ]
    },
    {
     "name": "stdin",
     "output_type": "stream",
     "text": [
      "Enter the URL (or type 'exit' to quit):  exit\n"
     ]
    },
    {
     "name": "stdout",
     "output_type": "stream",
     "text": [
      "Exiting...\n"
     ]
    }
   ],
   "source": [
    "import requests\n",
    "from bs4 import BeautifulSoup\n",
    "import pandas as pd\n",
    "import os\n",
    "import numpy as np\n",
    "\n",
    "def fetch_company_data(url):\n",
    "    # Send a request to the specified URL\n",
    "    response = requests.get(url)\n",
    "\n",
    "    # Check if the request was successful\n",
    "    if response.status_code != 200:\n",
    "        print(\"Failed to retrieve the webpage\")\n",
    "        return []\n",
    "\n",
    "    # Parse the content using BeautifulSoup\n",
    "    soup = BeautifulSoup(response.content, 'html.parser')\n",
    "\n",
    "    # Find all divs with the class that wraps company info\n",
    "    company_divs = soup.find_all('div', class_='company-info')  # Adjust this class if needed\n",
    "\n",
    "    # Create a list to store the extracted data\n",
    "    data_list = []\n",
    "\n",
    "    # Loop through each div and extract the required information\n",
    "    for company_info in company_divs:\n",
    "        # Extract company name\n",
    "        company_name = company_info.find('h5').text.strip() if company_info.find('h5') else 'N/A'\n",
    "        \n",
    "        # Extract contact person\n",
    "        contact_person = company_info.find_all('p')[0].text.strip() if company_info.find_all('p') else 'N/A'\n",
    "        \n",
    "        # Extract email\n",
    "        email_tag = company_info.find('a', href=True)\n",
    "        email = email_tag.text.strip() if email_tag else 'N/A'\n",
    "        \n",
    "        # Extract all <p> tags\n",
    "        p_tags = company_info.find_all('p')\n",
    "        \n",
    "        # Extract phone number, registration date, and views\n",
    "        phone = p_tags[2].text.strip() if len(p_tags) > 2 else 'N/A'\n",
    "        date = p_tags[3].text.strip() if len(p_tags) > 3 else 'N/A'\n",
    "        view = p_tags[4].text.strip() if len(p_tags) > 4 else 'N/A'\n",
    "        \n",
    "        # Append data for the current company as a row\n",
    "        data_list.append([company_name, contact_person, email, phone, date, view])\n",
    "\n",
    "    return data_list\n",
    "\n",
    "def save_to_excel(data, filename):\n",
    "    # Check if the file already exists\n",
    "    if os.path.exists(filename):\n",
    "        # If the file exists, load the existing data\n",
    "        existing_data = pd.read_excel(filename)\n",
    "        \n",
    "        # Convert the new data into a DataFrame\n",
    "        new_data = pd.DataFrame(data, columns=['Company Name', 'Contact Person', 'Email', 'Phone', 'Registration Date', 'Views'])\n",
    "        \n",
    "        # Create an empty row (NaN values) to separate data entries\n",
    "        empty_row = pd.DataFrame([[np.nan]*6], columns=['Company Name', 'Contact Person', 'Email', 'Phone', 'Registration Date', 'Views'])\n",
    "        \n",
    "        # Append the empty row and new data to the existing data\n",
    "        updated_data = pd.concat([existing_data, empty_row, new_data], ignore_index=True)\n",
    "    else:\n",
    "        # If the file doesn't exist, create a new DataFrame\n",
    "        updated_data = pd.DataFrame(data, columns=['Company Name', 'Contact Person', 'Email', 'Phone', 'Registration Date', 'Views'])\n",
    "    \n",
    "    # Save the updated data to the Excel file\n",
    "    updated_data.to_excel(filename, index=False)\n",
    "\n",
    "# Specify the Excel file name\n",
    "filename = 'company_data.xlsx'\n",
    "\n",
    "while True:\n",
    "    # Ask the user to input the URL (or type 'exit' to quit)\n",
    "    url = input(\"Enter the URL (or type 'exit' to quit): \")\n",
    "    \n",
    "    if url.lower() == 'exit':\n",
    "        print(\"Exiting...\")\n",
    "        break\n",
    "\n",
    "    # Fetch company data from the provided URL\n",
    "    company_data = fetch_company_data(url)\n",
    "    \n",
    "    # Save the fetched data to the Excel file\n",
    "    save_to_excel(company_data, filename)\n",
    "    \n",
    "    print(f\"Data from {url} has been saved to '{filename}'.\")"
   ]
  },
  {
   "cell_type": "code",
   "execution_count": null,
   "id": "8705e253-8de6-4361-ab25-3712923953db",
   "metadata": {},
   "outputs": [],
   "source": []
  },
  {
   "cell_type": "markdown",
   "id": "d65e48a9-69ec-452b-98c2-beec01abcf76",
   "metadata": {},
   "source": [
    "## Sequential"
   ]
  },
  {
   "cell_type": "code",
   "execution_count": 12,
   "id": "19df096d-e97b-4eb1-a792-4ac2671bc7b4",
   "metadata": {},
   "outputs": [
    {
     "name": "stdin",
     "output_type": "stream",
     "text": [
      "Enter the URL (or type 'exit' to quit):  https://www.ipcnet.org/exporters/page/5/?pid=0&aid=0&cid=0\n"
     ]
    },
    {
     "name": "stdout",
     "output_type": "stream",
     "text": [
      "Data from https://www.ipcnet.org/exporters/page/5/?pid=0&aid=0&cid=0 has been saved to 'company_data_with_gaps.xlsx'.\n"
     ]
    },
    {
     "name": "stdin",
     "output_type": "stream",
     "text": [
      "Enter the URL (or type 'exit' to quit):  https://www.ipcnet.org/exporters/page/6/?pid=0&aid=0&cid=0\n"
     ]
    },
    {
     "name": "stderr",
     "output_type": "stream",
     "text": [
      "Some characters could not be decoded, and were replaced with REPLACEMENT CHARACTER.\n"
     ]
    },
    {
     "name": "stdout",
     "output_type": "stream",
     "text": [
      "Data from https://www.ipcnet.org/exporters/page/6/?pid=0&aid=0&cid=0 has been saved to 'company_data_with_gaps.xlsx'.\n"
     ]
    },
    {
     "name": "stdin",
     "output_type": "stream",
     "text": [
      "Enter the URL (or type 'exit' to quit):  exit\n"
     ]
    },
    {
     "name": "stdout",
     "output_type": "stream",
     "text": [
      "Exiting...\n"
     ]
    }
   ],
   "source": [
    "import requests\n",
    "from bs4 import BeautifulSoup\n",
    "import pandas as pd\n",
    "import os\n",
    "\n",
    "def fetch_company_data(url):\n",
    "    # Send a request to the specified URL\n",
    "    response = requests.get(url)\n",
    "\n",
    "    # Check if the request was successful\n",
    "    if response.status_code != 200:\n",
    "        print(\"Failed to retrieve the webpage\")\n",
    "        return []\n",
    "\n",
    "    # Parse the content using BeautifulSoup\n",
    "    soup = BeautifulSoup(response.content, 'html.parser')\n",
    "\n",
    "    # Find all divs with the class that wraps company info\n",
    "    company_divs = soup.find_all('div', class_='company-info')  # Adjust this class if needed\n",
    "\n",
    "    # Create a list to store the extracted data in one column\n",
    "    data_list = []\n",
    "\n",
    "    # Loop through each div and extract the required information\n",
    "    for company_info in company_divs:\n",
    "        # Extract company name\n",
    "        company_name = company_info.find('h5').text.strip() if company_info.find('h5') else 'N/A'\n",
    "        \n",
    "        # Extract contact person\n",
    "        contact_person = company_info.find_all('p')[0].text.strip() if company_info.find_all('p') else 'N/A'\n",
    "        \n",
    "        # Extract email\n",
    "        email_tag = company_info.find('a', href=True)\n",
    "        email = email_tag.text.strip() if email_tag else 'N/A'\n",
    "        \n",
    "        # Extract all <p> tags\n",
    "        p_tags = company_info.find_all('p')\n",
    "        \n",
    "        # Extract phone number, registration date, views\n",
    "        phone = p_tags[2].text.strip() if len(p_tags) > 2 else 'N/A'\n",
    "        date = p_tags[3].text.strip() if len(p_tags) > 3 else 'N/A'\n",
    "        view = p_tags[4].text.strip() if len(p_tags) > 4 else 'N/A'\n",
    "        \n",
    "        # Append all data as sequential entries in the list (single column data)\n",
    "        data_list.extend([company_name, contact_person, email, phone, date, view])\n",
    "        \n",
    "        # Add an empty row after each company\n",
    "        data_list.append('')\n",
    "\n",
    "    return data_list\n",
    "\n",
    "def save_to_excel(data, filename):\n",
    "    # Check if the file already exists\n",
    "    if os.path.exists(filename):\n",
    "        # If the file exists, load the existing data\n",
    "        existing_data = pd.read_excel(filename, header=None)\n",
    "        \n",
    "        # Convert the new data into a DataFrame with one column\n",
    "        new_data = pd.DataFrame(data)\n",
    "        \n",
    "        # Append the new data to the existing data\n",
    "        updated_data = pd.concat([existing_data, new_data], ignore_index=True)\n",
    "    else:\n",
    "        # If the file doesn't exist, create a new DataFrame with one column\n",
    "        updated_data = pd.DataFrame(data)\n",
    "    \n",
    "    # Save the updated data to the Excel file without header\n",
    "    updated_data.to_excel(filename, index=False, header=False)\n",
    "\n",
    "# Specify the Excel file name\n",
    "filename = 'company_data_with_gaps.xlsx'\n",
    "\n",
    "while True:\n",
    "    # Ask the user to input the URL (or type 'exit' to quit)\n",
    "    url = input(\"Enter the URL (or type 'exit' to quit): \")\n",
    "    \n",
    "    if url.lower() == 'exit':\n",
    "        print(\"Exiting...\")\n",
    "        break\n",
    "\n",
    "    # Fetch company data from the provided URL\n",
    "    company_data = fetch_company_data(url)\n",
    "    \n",
    "    # Save the fetched data to the Excel file\n",
    "    save_to_excel(company_data, filename)\n",
    "    \n",
    "    print(f\"Data from {url} has been saved to '{filename}'.\")"
   ]
  },
  {
   "cell_type": "markdown",
   "id": "d970212d-13b9-4b52-8eaa-2d44af96184a",
   "metadata": {},
   "source": [
    "## Final "
   ]
  },
  {
   "cell_type": "code",
   "execution_count": 33,
   "id": "ac163782-e8ef-4974-845d-fd1fef48c73f",
   "metadata": {},
   "outputs": [
    {
     "name": "stdin",
     "output_type": "stream",
     "text": [
      "Enter the URL (or type 'exit' to quit):  https://www.ipcnet.org/exporters/?pid=0&aid=0&cid=0\n"
     ]
    },
    {
     "name": "stderr",
     "output_type": "stream",
     "text": [
      "C:\\Users\\Lenovo\\AppData\\Local\\Temp\\ipykernel_12256\\381692075.py:51: DeprecationWarning: The 'text' argument to find()-type methods is deprecated. Use 'string' instead.\n",
      "  date = date_tag.find_next(text=True).strip() if date_tag.find_next(text=True) else 'N/A'\n",
      "C:\\Users\\Lenovo\\AppData\\Local\\Temp\\ipykernel_12256\\381692075.py:55: DeprecationWarning: The 'text' argument to find()-type methods is deprecated. Use 'string' instead.\n",
      "  view = view_tag.find_next(text=True).strip() if view_tag.find_next(text=True) else 'N/A'\n"
     ]
    },
    {
     "name": "stdout",
     "output_type": "stream",
     "text": [
      "Data from https://www.ipcnet.org/exporters/?pid=0&aid=0&cid=0 has been saved to 'company_data.xlsx'.\n"
     ]
    },
    {
     "name": "stdin",
     "output_type": "stream",
     "text": [
      "Enter the URL (or type 'exit' to quit):  https://www.ipcnet.org/exporters/page/2/?pid=0&aid=0&cid=0\n"
     ]
    },
    {
     "name": "stdout",
     "output_type": "stream",
     "text": [
      "Data from https://www.ipcnet.org/exporters/page/2/?pid=0&aid=0&cid=0 has been saved to 'company_data.xlsx'.\n"
     ]
    },
    {
     "name": "stdin",
     "output_type": "stream",
     "text": [
      "Enter the URL (or type 'exit' to quit):  https://www.ipcnet.org/exporters/page/3/?pid=0&aid=0&cid=0\n"
     ]
    },
    {
     "name": "stderr",
     "output_type": "stream",
     "text": [
      "C:\\Users\\Lenovo\\AppData\\Local\\Temp\\ipykernel_12256\\381692075.py:51: DeprecationWarning: The 'text' argument to find()-type methods is deprecated. Use 'string' instead.\n",
      "  date = date_tag.find_next(text=True).strip() if date_tag.find_next(text=True) else 'N/A'\n",
      "C:\\Users\\Lenovo\\AppData\\Local\\Temp\\ipykernel_12256\\381692075.py:55: DeprecationWarning: The 'text' argument to find()-type methods is deprecated. Use 'string' instead.\n",
      "  view = view_tag.find_next(text=True).strip() if view_tag.find_next(text=True) else 'N/A'\n"
     ]
    },
    {
     "name": "stdout",
     "output_type": "stream",
     "text": [
      "Data from https://www.ipcnet.org/exporters/page/3/?pid=0&aid=0&cid=0 has been saved to 'company_data.xlsx'.\n"
     ]
    },
    {
     "name": "stdin",
     "output_type": "stream",
     "text": [
      "Enter the URL (or type 'exit' to quit):  https://www.ipcnet.org/exporters/page/4/?pid=0&aid=0&cid=0\n"
     ]
    },
    {
     "name": "stderr",
     "output_type": "stream",
     "text": [
      "Some characters could not be decoded, and were replaced with REPLACEMENT CHARACTER.\n",
      "C:\\Users\\Lenovo\\AppData\\Local\\Temp\\ipykernel_12256\\381692075.py:51: DeprecationWarning: The 'text' argument to find()-type methods is deprecated. Use 'string' instead.\n",
      "  date = date_tag.find_next(text=True).strip() if date_tag.find_next(text=True) else 'N/A'\n",
      "C:\\Users\\Lenovo\\AppData\\Local\\Temp\\ipykernel_12256\\381692075.py:55: DeprecationWarning: The 'text' argument to find()-type methods is deprecated. Use 'string' instead.\n",
      "  view = view_tag.find_next(text=True).strip() if view_tag.find_next(text=True) else 'N/A'\n"
     ]
    },
    {
     "name": "stdout",
     "output_type": "stream",
     "text": [
      "Data from https://www.ipcnet.org/exporters/page/4/?pid=0&aid=0&cid=0 has been saved to 'company_data.xlsx'.\n"
     ]
    },
    {
     "name": "stdin",
     "output_type": "stream",
     "text": [
      "Enter the URL (or type 'exit' to quit):  exit\n"
     ]
    },
    {
     "name": "stdout",
     "output_type": "stream",
     "text": [
      "Exiting...\n"
     ]
    }
   ],
   "source": [
    "import requests\n",
    "from bs4 import BeautifulSoup\n",
    "import pandas as pd\n",
    "import os\n",
    "import numpy as np\n",
    "\n",
    "def fetch_company_data(url):\n",
    "    # Send a request to the specified URL\n",
    "    response = requests.get(url)\n",
    "\n",
    "    # Check if the request was successful\n",
    "    if response.status_code != 200:\n",
    "        print(\"Failed to retrieve the webpage\")\n",
    "        return []\n",
    "\n",
    "    # Parse the content using BeautifulSoup\n",
    "    soup = BeautifulSoup(response.content, 'html.parser')\n",
    "\n",
    "    # Find all divs with the class that wraps company info\n",
    "    company_divs = soup.find_all('div', class_='company-info')  # Adjust this class if needed\n",
    "\n",
    "    # Create a list to store the extracted data\n",
    "    data_list = []\n",
    "\n",
    "    # Loop through each div and extract the required information\n",
    "    for company_info in company_divs:\n",
    "        # Extract company name\n",
    "        company_name = company_info.find('h5').text.strip() if company_info.find('h5') else 'N/A'\n",
    "        \n",
    "        # Extract contact person\n",
    "        contact_person = company_info.find_all('p')[0].text.strip() if company_info.find_all('p') else 'N/A'\n",
    "        \n",
    "        # Extract email\n",
    "        email_tag = company_info.find('a', href=True)\n",
    "        email = email_tag.text.strip() if email_tag else 'N/A'\n",
    "\n",
    "        # Initialize phone, date, and view variables\n",
    "        phone = 'N/A'\n",
    "        date = 'N/A'\n",
    "        view = 'N/A'\n",
    "\n",
    "        # Find elements with specific classes and extract their text\n",
    "        phone_tag = company_info.find('em', class_='fa fa-phone')\n",
    "        if phone_tag:\n",
    "            phone_link = phone_tag.find_next('a')  # Get the next <a> tag\n",
    "            if phone_link:\n",
    "                phone = phone_link.text.strip() if phone_link.text.strip() else 'N/A'\n",
    "\n",
    "        date_tag = company_info.find('em', class_='fa fa-calendar')\n",
    "        if date_tag:\n",
    "            date = date_tag.find_next(text=True).strip() if date_tag.find_next(text=True) else 'N/A'\n",
    "\n",
    "        view_tag = company_info.find('em', class_='fa fa-eye')\n",
    "        if view_tag:\n",
    "            view = view_tag.find_next(text=True).strip() if view_tag.find_next(text=True) else 'N/A'\n",
    "\n",
    "        # Append data for the current company as a row\n",
    "        data_list.append([company_name, contact_person, email, phone, date, view])\n",
    "\n",
    "    return data_list\n",
    "\n",
    "def save_to_excel(data, filename):\n",
    "    # Create a DataFrame from the data\n",
    "    new_data = pd.DataFrame(data, columns=['Company Name', 'Contact Person', 'Email', 'Phone', 'Registration Date', 'Views'])\n",
    "\n",
    "    # Check if the file already exists\n",
    "    if os.path.exists(filename):\n",
    "        # If the file exists, load the existing data\n",
    "        existing_data = pd.read_excel(filename)\n",
    "\n",
    "        # Create an empty row (NaN values) to separate data entries\n",
    "        empty_row = pd.DataFrame([[np.nan]*6], columns=new_data.columns)\n",
    "\n",
    "        # Append the empty row and new data to the existing data\n",
    "        updated_data = pd.concat([existing_data, empty_row, new_data], ignore_index=True)\n",
    "    else:\n",
    "        # If the file doesn't exist, set updated_data to the new DataFrame\n",
    "        updated_data = new_data\n",
    "\n",
    "    # Save the updated data to the Excel file\n",
    "    updated_data.to_excel(filename, index=False)\n",
    "\n",
    "# Specify the Excel file name\n",
    "filename = 'company_data.xlsx'\n",
    "\n",
    "while True:\n",
    "    # Ask the user to input the URL (or type 'exit' to quit)\n",
    "    url = input(\"Enter the URL (or type 'exit' to quit): \")\n",
    "    \n",
    "    if url.lower() == 'exit':\n",
    "        print(\"Exiting...\")\n",
    "        break\n",
    "\n",
    "    # Fetch company data from the provided URL\n",
    "    company_data = fetch_company_data(url)\n",
    "    \n",
    "    # Save the fetched data to the Excel file\n",
    "    save_to_excel(company_data, filename)\n",
    "    \n",
    "    print(f\"Data from {url} has been saved to '{filename}'.\")"
   ]
  },
  {
   "cell_type": "code",
   "execution_count": 35,
   "id": "dfda5f8d-2f0b-4f2d-8d49-9351ec4476bc",
   "metadata": {},
   "outputs": [
    {
     "name": "stderr",
     "output_type": "stream",
     "text": [
      "C:\\Users\\Lenovo\\AppData\\Local\\Temp\\ipykernel_12256\\1781006730.py:41: DeprecationWarning: The 'text' argument to find()-type methods is deprecated. Use 'string' instead.\n",
      "  date = date_tag.find_next(text=True).strip() if date_tag.find_next(text=True) else 'N/A'\n",
      "C:\\Users\\Lenovo\\AppData\\Local\\Temp\\ipykernel_12256\\1781006730.py:45: DeprecationWarning: The 'text' argument to find()-type methods is deprecated. Use 'string' instead.\n",
      "  view = view_tag.find_next(text=True).strip() if view_tag.find_next(text=True) else 'N/A'\n"
     ]
    },
    {
     "name": "stdout",
     "output_type": "stream",
     "text": [
      "Data from https://www.ipcnet.org/exporters/page/1/?pid=0&aid=0&cid=0 has been saved to 'company_data.xlsx'.\n",
      "Data from https://www.ipcnet.org/exporters/page/2/?pid=0&aid=0&cid=0 has been saved to 'company_data.xlsx'.\n"
     ]
    },
    {
     "name": "stderr",
     "output_type": "stream",
     "text": [
      "C:\\Users\\Lenovo\\AppData\\Local\\Temp\\ipykernel_12256\\1781006730.py:41: DeprecationWarning: The 'text' argument to find()-type methods is deprecated. Use 'string' instead.\n",
      "  date = date_tag.find_next(text=True).strip() if date_tag.find_next(text=True) else 'N/A'\n",
      "C:\\Users\\Lenovo\\AppData\\Local\\Temp\\ipykernel_12256\\1781006730.py:45: DeprecationWarning: The 'text' argument to find()-type methods is deprecated. Use 'string' instead.\n",
      "  view = view_tag.find_next(text=True).strip() if view_tag.find_next(text=True) else 'N/A'\n"
     ]
    },
    {
     "name": "stdout",
     "output_type": "stream",
     "text": [
      "Data from https://www.ipcnet.org/exporters/page/3/?pid=0&aid=0&cid=0 has been saved to 'company_data.xlsx'.\n"
     ]
    },
    {
     "name": "stderr",
     "output_type": "stream",
     "text": [
      "Some characters could not be decoded, and were replaced with REPLACEMENT CHARACTER.\n",
      "C:\\Users\\Lenovo\\AppData\\Local\\Temp\\ipykernel_12256\\1781006730.py:41: DeprecationWarning: The 'text' argument to find()-type methods is deprecated. Use 'string' instead.\n",
      "  date = date_tag.find_next(text=True).strip() if date_tag.find_next(text=True) else 'N/A'\n",
      "C:\\Users\\Lenovo\\AppData\\Local\\Temp\\ipykernel_12256\\1781006730.py:45: DeprecationWarning: The 'text' argument to find()-type methods is deprecated. Use 'string' instead.\n",
      "  view = view_tag.find_next(text=True).strip() if view_tag.find_next(text=True) else 'N/A'\n"
     ]
    },
    {
     "name": "stdout",
     "output_type": "stream",
     "text": [
      "Data from https://www.ipcnet.org/exporters/page/4/?pid=0&aid=0&cid=0 has been saved to 'company_data.xlsx'.\n"
     ]
    },
    {
     "name": "stderr",
     "output_type": "stream",
     "text": [
      "C:\\Users\\Lenovo\\AppData\\Local\\Temp\\ipykernel_12256\\1781006730.py:41: DeprecationWarning: The 'text' argument to find()-type methods is deprecated. Use 'string' instead.\n",
      "  date = date_tag.find_next(text=True).strip() if date_tag.find_next(text=True) else 'N/A'\n",
      "C:\\Users\\Lenovo\\AppData\\Local\\Temp\\ipykernel_12256\\1781006730.py:45: DeprecationWarning: The 'text' argument to find()-type methods is deprecated. Use 'string' instead.\n",
      "  view = view_tag.find_next(text=True).strip() if view_tag.find_next(text=True) else 'N/A'\n"
     ]
    },
    {
     "name": "stdout",
     "output_type": "stream",
     "text": [
      "Data from https://www.ipcnet.org/exporters/page/5/?pid=0&aid=0&cid=0 has been saved to 'company_data.xlsx'.\n"
     ]
    },
    {
     "name": "stderr",
     "output_type": "stream",
     "text": [
      "Some characters could not be decoded, and were replaced with REPLACEMENT CHARACTER.\n",
      "C:\\Users\\Lenovo\\AppData\\Local\\Temp\\ipykernel_12256\\1781006730.py:41: DeprecationWarning: The 'text' argument to find()-type methods is deprecated. Use 'string' instead.\n",
      "  date = date_tag.find_next(text=True).strip() if date_tag.find_next(text=True) else 'N/A'\n",
      "C:\\Users\\Lenovo\\AppData\\Local\\Temp\\ipykernel_12256\\1781006730.py:45: DeprecationWarning: The 'text' argument to find()-type methods is deprecated. Use 'string' instead.\n",
      "  view = view_tag.find_next(text=True).strip() if view_tag.find_next(text=True) else 'N/A'\n"
     ]
    },
    {
     "name": "stdout",
     "output_type": "stream",
     "text": [
      "Data from https://www.ipcnet.org/exporters/page/6/?pid=0&aid=0&cid=0 has been saved to 'company_data.xlsx'.\n"
     ]
    },
    {
     "name": "stderr",
     "output_type": "stream",
     "text": [
      "C:\\Users\\Lenovo\\AppData\\Local\\Temp\\ipykernel_12256\\1781006730.py:41: DeprecationWarning: The 'text' argument to find()-type methods is deprecated. Use 'string' instead.\n",
      "  date = date_tag.find_next(text=True).strip() if date_tag.find_next(text=True) else 'N/A'\n",
      "C:\\Users\\Lenovo\\AppData\\Local\\Temp\\ipykernel_12256\\1781006730.py:45: DeprecationWarning: The 'text' argument to find()-type methods is deprecated. Use 'string' instead.\n",
      "  view = view_tag.find_next(text=True).strip() if view_tag.find_next(text=True) else 'N/A'\n"
     ]
    },
    {
     "name": "stdout",
     "output_type": "stream",
     "text": [
      "Data from https://www.ipcnet.org/exporters/page/7/?pid=0&aid=0&cid=0 has been saved to 'company_data.xlsx'.\n"
     ]
    },
    {
     "name": "stderr",
     "output_type": "stream",
     "text": [
      "C:\\Users\\Lenovo\\AppData\\Local\\Temp\\ipykernel_12256\\1781006730.py:41: DeprecationWarning: The 'text' argument to find()-type methods is deprecated. Use 'string' instead.\n",
      "  date = date_tag.find_next(text=True).strip() if date_tag.find_next(text=True) else 'N/A'\n",
      "C:\\Users\\Lenovo\\AppData\\Local\\Temp\\ipykernel_12256\\1781006730.py:45: DeprecationWarning: The 'text' argument to find()-type methods is deprecated. Use 'string' instead.\n",
      "  view = view_tag.find_next(text=True).strip() if view_tag.find_next(text=True) else 'N/A'\n"
     ]
    },
    {
     "name": "stdout",
     "output_type": "stream",
     "text": [
      "Data from https://www.ipcnet.org/exporters/page/8/?pid=0&aid=0&cid=0 has been saved to 'company_data.xlsx'.\n"
     ]
    },
    {
     "name": "stderr",
     "output_type": "stream",
     "text": [
      "C:\\Users\\Lenovo\\AppData\\Local\\Temp\\ipykernel_12256\\1781006730.py:41: DeprecationWarning: The 'text' argument to find()-type methods is deprecated. Use 'string' instead.\n",
      "  date = date_tag.find_next(text=True).strip() if date_tag.find_next(text=True) else 'N/A'\n",
      "C:\\Users\\Lenovo\\AppData\\Local\\Temp\\ipykernel_12256\\1781006730.py:45: DeprecationWarning: The 'text' argument to find()-type methods is deprecated. Use 'string' instead.\n",
      "  view = view_tag.find_next(text=True).strip() if view_tag.find_next(text=True) else 'N/A'\n"
     ]
    },
    {
     "name": "stdout",
     "output_type": "stream",
     "text": [
      "Data from https://www.ipcnet.org/exporters/page/9/?pid=0&aid=0&cid=0 has been saved to 'company_data.xlsx'.\n"
     ]
    },
    {
     "name": "stderr",
     "output_type": "stream",
     "text": [
      "Some characters could not be decoded, and were replaced with REPLACEMENT CHARACTER.\n",
      "C:\\Users\\Lenovo\\AppData\\Local\\Temp\\ipykernel_12256\\1781006730.py:41: DeprecationWarning: The 'text' argument to find()-type methods is deprecated. Use 'string' instead.\n",
      "  date = date_tag.find_next(text=True).strip() if date_tag.find_next(text=True) else 'N/A'\n",
      "C:\\Users\\Lenovo\\AppData\\Local\\Temp\\ipykernel_12256\\1781006730.py:45: DeprecationWarning: The 'text' argument to find()-type methods is deprecated. Use 'string' instead.\n",
      "  view = view_tag.find_next(text=True).strip() if view_tag.find_next(text=True) else 'N/A'\n"
     ]
    },
    {
     "name": "stdout",
     "output_type": "stream",
     "text": [
      "Data from https://www.ipcnet.org/exporters/page/10/?pid=0&aid=0&cid=0 has been saved to 'company_data.xlsx'.\n"
     ]
    },
    {
     "name": "stderr",
     "output_type": "stream",
     "text": [
      "C:\\Users\\Lenovo\\AppData\\Local\\Temp\\ipykernel_12256\\1781006730.py:41: DeprecationWarning: The 'text' argument to find()-type methods is deprecated. Use 'string' instead.\n",
      "  date = date_tag.find_next(text=True).strip() if date_tag.find_next(text=True) else 'N/A'\n",
      "C:\\Users\\Lenovo\\AppData\\Local\\Temp\\ipykernel_12256\\1781006730.py:45: DeprecationWarning: The 'text' argument to find()-type methods is deprecated. Use 'string' instead.\n",
      "  view = view_tag.find_next(text=True).strip() if view_tag.find_next(text=True) else 'N/A'\n"
     ]
    },
    {
     "name": "stdout",
     "output_type": "stream",
     "text": [
      "Data from https://www.ipcnet.org/exporters/page/11/?pid=0&aid=0&cid=0 has been saved to 'company_data.xlsx'.\n"
     ]
    },
    {
     "name": "stderr",
     "output_type": "stream",
     "text": [
      "C:\\Users\\Lenovo\\AppData\\Local\\Temp\\ipykernel_12256\\1781006730.py:41: DeprecationWarning: The 'text' argument to find()-type methods is deprecated. Use 'string' instead.\n",
      "  date = date_tag.find_next(text=True).strip() if date_tag.find_next(text=True) else 'N/A'\n",
      "C:\\Users\\Lenovo\\AppData\\Local\\Temp\\ipykernel_12256\\1781006730.py:45: DeprecationWarning: The 'text' argument to find()-type methods is deprecated. Use 'string' instead.\n",
      "  view = view_tag.find_next(text=True).strip() if view_tag.find_next(text=True) else 'N/A'\n"
     ]
    },
    {
     "name": "stdout",
     "output_type": "stream",
     "text": [
      "Data from https://www.ipcnet.org/exporters/page/12/?pid=0&aid=0&cid=0 has been saved to 'company_data.xlsx'.\n"
     ]
    },
    {
     "name": "stderr",
     "output_type": "stream",
     "text": [
      "C:\\Users\\Lenovo\\AppData\\Local\\Temp\\ipykernel_12256\\1781006730.py:41: DeprecationWarning: The 'text' argument to find()-type methods is deprecated. Use 'string' instead.\n",
      "  date = date_tag.find_next(text=True).strip() if date_tag.find_next(text=True) else 'N/A'\n",
      "C:\\Users\\Lenovo\\AppData\\Local\\Temp\\ipykernel_12256\\1781006730.py:45: DeprecationWarning: The 'text' argument to find()-type methods is deprecated. Use 'string' instead.\n",
      "  view = view_tag.find_next(text=True).strip() if view_tag.find_next(text=True) else 'N/A'\n"
     ]
    },
    {
     "name": "stdout",
     "output_type": "stream",
     "text": [
      "Data from https://www.ipcnet.org/exporters/page/13/?pid=0&aid=0&cid=0 has been saved to 'company_data.xlsx'.\n"
     ]
    },
    {
     "name": "stderr",
     "output_type": "stream",
     "text": [
      "C:\\Users\\Lenovo\\AppData\\Local\\Temp\\ipykernel_12256\\1781006730.py:41: DeprecationWarning: The 'text' argument to find()-type methods is deprecated. Use 'string' instead.\n",
      "  date = date_tag.find_next(text=True).strip() if date_tag.find_next(text=True) else 'N/A'\n",
      "C:\\Users\\Lenovo\\AppData\\Local\\Temp\\ipykernel_12256\\1781006730.py:45: DeprecationWarning: The 'text' argument to find()-type methods is deprecated. Use 'string' instead.\n",
      "  view = view_tag.find_next(text=True).strip() if view_tag.find_next(text=True) else 'N/A'\n"
     ]
    },
    {
     "name": "stdout",
     "output_type": "stream",
     "text": [
      "Data from https://www.ipcnet.org/exporters/page/14/?pid=0&aid=0&cid=0 has been saved to 'company_data.xlsx'.\n"
     ]
    },
    {
     "name": "stderr",
     "output_type": "stream",
     "text": [
      "C:\\Users\\Lenovo\\AppData\\Local\\Temp\\ipykernel_12256\\1781006730.py:41: DeprecationWarning: The 'text' argument to find()-type methods is deprecated. Use 'string' instead.\n",
      "  date = date_tag.find_next(text=True).strip() if date_tag.find_next(text=True) else 'N/A'\n",
      "C:\\Users\\Lenovo\\AppData\\Local\\Temp\\ipykernel_12256\\1781006730.py:45: DeprecationWarning: The 'text' argument to find()-type methods is deprecated. Use 'string' instead.\n",
      "  view = view_tag.find_next(text=True).strip() if view_tag.find_next(text=True) else 'N/A'\n"
     ]
    },
    {
     "name": "stdout",
     "output_type": "stream",
     "text": [
      "Data from https://www.ipcnet.org/exporters/page/15/?pid=0&aid=0&cid=0 has been saved to 'company_data.xlsx'.\n"
     ]
    },
    {
     "name": "stderr",
     "output_type": "stream",
     "text": [
      "C:\\Users\\Lenovo\\AppData\\Local\\Temp\\ipykernel_12256\\1781006730.py:41: DeprecationWarning: The 'text' argument to find()-type methods is deprecated. Use 'string' instead.\n",
      "  date = date_tag.find_next(text=True).strip() if date_tag.find_next(text=True) else 'N/A'\n",
      "C:\\Users\\Lenovo\\AppData\\Local\\Temp\\ipykernel_12256\\1781006730.py:45: DeprecationWarning: The 'text' argument to find()-type methods is deprecated. Use 'string' instead.\n",
      "  view = view_tag.find_next(text=True).strip() if view_tag.find_next(text=True) else 'N/A'\n"
     ]
    },
    {
     "name": "stdout",
     "output_type": "stream",
     "text": [
      "Data from https://www.ipcnet.org/exporters/page/16/?pid=0&aid=0&cid=0 has been saved to 'company_data.xlsx'.\n"
     ]
    },
    {
     "name": "stderr",
     "output_type": "stream",
     "text": [
      "C:\\Users\\Lenovo\\AppData\\Local\\Temp\\ipykernel_12256\\1781006730.py:41: DeprecationWarning: The 'text' argument to find()-type methods is deprecated. Use 'string' instead.\n",
      "  date = date_tag.find_next(text=True).strip() if date_tag.find_next(text=True) else 'N/A'\n",
      "C:\\Users\\Lenovo\\AppData\\Local\\Temp\\ipykernel_12256\\1781006730.py:45: DeprecationWarning: The 'text' argument to find()-type methods is deprecated. Use 'string' instead.\n",
      "  view = view_tag.find_next(text=True).strip() if view_tag.find_next(text=True) else 'N/A'\n"
     ]
    },
    {
     "name": "stdout",
     "output_type": "stream",
     "text": [
      "Data from https://www.ipcnet.org/exporters/page/17/?pid=0&aid=0&cid=0 has been saved to 'company_data.xlsx'.\n"
     ]
    },
    {
     "name": "stderr",
     "output_type": "stream",
     "text": [
      "C:\\Users\\Lenovo\\AppData\\Local\\Temp\\ipykernel_12256\\1781006730.py:41: DeprecationWarning: The 'text' argument to find()-type methods is deprecated. Use 'string' instead.\n",
      "  date = date_tag.find_next(text=True).strip() if date_tag.find_next(text=True) else 'N/A'\n",
      "C:\\Users\\Lenovo\\AppData\\Local\\Temp\\ipykernel_12256\\1781006730.py:45: DeprecationWarning: The 'text' argument to find()-type methods is deprecated. Use 'string' instead.\n",
      "  view = view_tag.find_next(text=True).strip() if view_tag.find_next(text=True) else 'N/A'\n"
     ]
    },
    {
     "name": "stdout",
     "output_type": "stream",
     "text": [
      "Data from https://www.ipcnet.org/exporters/page/18/?pid=0&aid=0&cid=0 has been saved to 'company_data.xlsx'.\n"
     ]
    },
    {
     "name": "stderr",
     "output_type": "stream",
     "text": [
      "C:\\Users\\Lenovo\\AppData\\Local\\Temp\\ipykernel_12256\\1781006730.py:41: DeprecationWarning: The 'text' argument to find()-type methods is deprecated. Use 'string' instead.\n",
      "  date = date_tag.find_next(text=True).strip() if date_tag.find_next(text=True) else 'N/A'\n",
      "C:\\Users\\Lenovo\\AppData\\Local\\Temp\\ipykernel_12256\\1781006730.py:45: DeprecationWarning: The 'text' argument to find()-type methods is deprecated. Use 'string' instead.\n",
      "  view = view_tag.find_next(text=True).strip() if view_tag.find_next(text=True) else 'N/A'\n"
     ]
    },
    {
     "name": "stdout",
     "output_type": "stream",
     "text": [
      "Data from https://www.ipcnet.org/exporters/page/19/?pid=0&aid=0&cid=0 has been saved to 'company_data.xlsx'.\n"
     ]
    },
    {
     "name": "stderr",
     "output_type": "stream",
     "text": [
      "C:\\Users\\Lenovo\\AppData\\Local\\Temp\\ipykernel_12256\\1781006730.py:41: DeprecationWarning: The 'text' argument to find()-type methods is deprecated. Use 'string' instead.\n",
      "  date = date_tag.find_next(text=True).strip() if date_tag.find_next(text=True) else 'N/A'\n",
      "C:\\Users\\Lenovo\\AppData\\Local\\Temp\\ipykernel_12256\\1781006730.py:45: DeprecationWarning: The 'text' argument to find()-type methods is deprecated. Use 'string' instead.\n",
      "  view = view_tag.find_next(text=True).strip() if view_tag.find_next(text=True) else 'N/A'\n"
     ]
    },
    {
     "name": "stdout",
     "output_type": "stream",
     "text": [
      "Data from https://www.ipcnet.org/exporters/page/20/?pid=0&aid=0&cid=0 has been saved to 'company_data.xlsx'.\n"
     ]
    },
    {
     "name": "stderr",
     "output_type": "stream",
     "text": [
      "C:\\Users\\Lenovo\\AppData\\Local\\Temp\\ipykernel_12256\\1781006730.py:41: DeprecationWarning: The 'text' argument to find()-type methods is deprecated. Use 'string' instead.\n",
      "  date = date_tag.find_next(text=True).strip() if date_tag.find_next(text=True) else 'N/A'\n",
      "C:\\Users\\Lenovo\\AppData\\Local\\Temp\\ipykernel_12256\\1781006730.py:45: DeprecationWarning: The 'text' argument to find()-type methods is deprecated. Use 'string' instead.\n",
      "  view = view_tag.find_next(text=True).strip() if view_tag.find_next(text=True) else 'N/A'\n"
     ]
    },
    {
     "name": "stdout",
     "output_type": "stream",
     "text": [
      "Data from https://www.ipcnet.org/exporters/page/21/?pid=0&aid=0&cid=0 has been saved to 'company_data.xlsx'.\n"
     ]
    },
    {
     "name": "stderr",
     "output_type": "stream",
     "text": [
      "C:\\Users\\Lenovo\\AppData\\Local\\Temp\\ipykernel_12256\\1781006730.py:41: DeprecationWarning: The 'text' argument to find()-type methods is deprecated. Use 'string' instead.\n",
      "  date = date_tag.find_next(text=True).strip() if date_tag.find_next(text=True) else 'N/A'\n",
      "C:\\Users\\Lenovo\\AppData\\Local\\Temp\\ipykernel_12256\\1781006730.py:45: DeprecationWarning: The 'text' argument to find()-type methods is deprecated. Use 'string' instead.\n",
      "  view = view_tag.find_next(text=True).strip() if view_tag.find_next(text=True) else 'N/A'\n"
     ]
    },
    {
     "name": "stdout",
     "output_type": "stream",
     "text": [
      "Data from https://www.ipcnet.org/exporters/page/22/?pid=0&aid=0&cid=0 has been saved to 'company_data.xlsx'.\n"
     ]
    },
    {
     "name": "stderr",
     "output_type": "stream",
     "text": [
      "C:\\Users\\Lenovo\\AppData\\Local\\Temp\\ipykernel_12256\\1781006730.py:41: DeprecationWarning: The 'text' argument to find()-type methods is deprecated. Use 'string' instead.\n",
      "  date = date_tag.find_next(text=True).strip() if date_tag.find_next(text=True) else 'N/A'\n",
      "C:\\Users\\Lenovo\\AppData\\Local\\Temp\\ipykernel_12256\\1781006730.py:45: DeprecationWarning: The 'text' argument to find()-type methods is deprecated. Use 'string' instead.\n",
      "  view = view_tag.find_next(text=True).strip() if view_tag.find_next(text=True) else 'N/A'\n"
     ]
    },
    {
     "name": "stdout",
     "output_type": "stream",
     "text": [
      "Data from https://www.ipcnet.org/exporters/page/23/?pid=0&aid=0&cid=0 has been saved to 'company_data.xlsx'.\n"
     ]
    },
    {
     "name": "stderr",
     "output_type": "stream",
     "text": [
      "C:\\Users\\Lenovo\\AppData\\Local\\Temp\\ipykernel_12256\\1781006730.py:41: DeprecationWarning: The 'text' argument to find()-type methods is deprecated. Use 'string' instead.\n",
      "  date = date_tag.find_next(text=True).strip() if date_tag.find_next(text=True) else 'N/A'\n",
      "C:\\Users\\Lenovo\\AppData\\Local\\Temp\\ipykernel_12256\\1781006730.py:45: DeprecationWarning: The 'text' argument to find()-type methods is deprecated. Use 'string' instead.\n",
      "  view = view_tag.find_next(text=True).strip() if view_tag.find_next(text=True) else 'N/A'\n"
     ]
    },
    {
     "name": "stdout",
     "output_type": "stream",
     "text": [
      "Data from https://www.ipcnet.org/exporters/page/24/?pid=0&aid=0&cid=0 has been saved to 'company_data.xlsx'.\n"
     ]
    },
    {
     "name": "stderr",
     "output_type": "stream",
     "text": [
      "C:\\Users\\Lenovo\\AppData\\Local\\Temp\\ipykernel_12256\\1781006730.py:41: DeprecationWarning: The 'text' argument to find()-type methods is deprecated. Use 'string' instead.\n",
      "  date = date_tag.find_next(text=True).strip() if date_tag.find_next(text=True) else 'N/A'\n",
      "C:\\Users\\Lenovo\\AppData\\Local\\Temp\\ipykernel_12256\\1781006730.py:45: DeprecationWarning: The 'text' argument to find()-type methods is deprecated. Use 'string' instead.\n",
      "  view = view_tag.find_next(text=True).strip() if view_tag.find_next(text=True) else 'N/A'\n"
     ]
    },
    {
     "name": "stdout",
     "output_type": "stream",
     "text": [
      "Data from https://www.ipcnet.org/exporters/page/25/?pid=0&aid=0&cid=0 has been saved to 'company_data.xlsx'.\n"
     ]
    },
    {
     "name": "stderr",
     "output_type": "stream",
     "text": [
      "C:\\Users\\Lenovo\\AppData\\Local\\Temp\\ipykernel_12256\\1781006730.py:41: DeprecationWarning: The 'text' argument to find()-type methods is deprecated. Use 'string' instead.\n",
      "  date = date_tag.find_next(text=True).strip() if date_tag.find_next(text=True) else 'N/A'\n",
      "C:\\Users\\Lenovo\\AppData\\Local\\Temp\\ipykernel_12256\\1781006730.py:45: DeprecationWarning: The 'text' argument to find()-type methods is deprecated. Use 'string' instead.\n",
      "  view = view_tag.find_next(text=True).strip() if view_tag.find_next(text=True) else 'N/A'\n"
     ]
    },
    {
     "name": "stdout",
     "output_type": "stream",
     "text": [
      "Data from https://www.ipcnet.org/exporters/page/26/?pid=0&aid=0&cid=0 has been saved to 'company_data.xlsx'.\n"
     ]
    },
    {
     "name": "stderr",
     "output_type": "stream",
     "text": [
      "C:\\Users\\Lenovo\\AppData\\Local\\Temp\\ipykernel_12256\\1781006730.py:45: DeprecationWarning: The 'text' argument to find()-type methods is deprecated. Use 'string' instead.\n",
      "  view = view_tag.find_next(text=True).strip() if view_tag.find_next(text=True) else 'N/A'\n"
     ]
    },
    {
     "name": "stdout",
     "output_type": "stream",
     "text": [
      "Data from https://www.ipcnet.org/exporters/page/27/?pid=0&aid=0&cid=0 has been saved to 'company_data.xlsx'.\n"
     ]
    },
    {
     "name": "stderr",
     "output_type": "stream",
     "text": [
      "C:\\Users\\Lenovo\\AppData\\Local\\Temp\\ipykernel_12256\\1781006730.py:45: DeprecationWarning: The 'text' argument to find()-type methods is deprecated. Use 'string' instead.\n",
      "  view = view_tag.find_next(text=True).strip() if view_tag.find_next(text=True) else 'N/A'\n"
     ]
    },
    {
     "name": "stdout",
     "output_type": "stream",
     "text": [
      "Data from https://www.ipcnet.org/exporters/page/28/?pid=0&aid=0&cid=0 has been saved to 'company_data.xlsx'.\n"
     ]
    },
    {
     "name": "stderr",
     "output_type": "stream",
     "text": [
      "C:\\Users\\Lenovo\\AppData\\Local\\Temp\\ipykernel_12256\\1781006730.py:45: DeprecationWarning: The 'text' argument to find()-type methods is deprecated. Use 'string' instead.\n",
      "  view = view_tag.find_next(text=True).strip() if view_tag.find_next(text=True) else 'N/A'\n"
     ]
    },
    {
     "name": "stdout",
     "output_type": "stream",
     "text": [
      "Data from https://www.ipcnet.org/exporters/page/29/?pid=0&aid=0&cid=0 has been saved to 'company_data.xlsx'.\n"
     ]
    },
    {
     "name": "stderr",
     "output_type": "stream",
     "text": [
      "C:\\Users\\Lenovo\\AppData\\Local\\Temp\\ipykernel_12256\\1781006730.py:45: DeprecationWarning: The 'text' argument to find()-type methods is deprecated. Use 'string' instead.\n",
      "  view = view_tag.find_next(text=True).strip() if view_tag.find_next(text=True) else 'N/A'\n"
     ]
    },
    {
     "name": "stdout",
     "output_type": "stream",
     "text": [
      "Data from https://www.ipcnet.org/exporters/page/30/?pid=0&aid=0&cid=0 has been saved to 'company_data.xlsx'.\n"
     ]
    },
    {
     "name": "stderr",
     "output_type": "stream",
     "text": [
      "C:\\Users\\Lenovo\\AppData\\Local\\Temp\\ipykernel_12256\\1781006730.py:45: DeprecationWarning: The 'text' argument to find()-type methods is deprecated. Use 'string' instead.\n",
      "  view = view_tag.find_next(text=True).strip() if view_tag.find_next(text=True) else 'N/A'\n"
     ]
    },
    {
     "name": "stdout",
     "output_type": "stream",
     "text": [
      "Data from https://www.ipcnet.org/exporters/page/31/?pid=0&aid=0&cid=0 has been saved to 'company_data.xlsx'.\n"
     ]
    },
    {
     "name": "stderr",
     "output_type": "stream",
     "text": [
      "C:\\Users\\Lenovo\\AppData\\Local\\Temp\\ipykernel_12256\\1781006730.py:45: DeprecationWarning: The 'text' argument to find()-type methods is deprecated. Use 'string' instead.\n",
      "  view = view_tag.find_next(text=True).strip() if view_tag.find_next(text=True) else 'N/A'\n"
     ]
    },
    {
     "name": "stdout",
     "output_type": "stream",
     "text": [
      "Data from https://www.ipcnet.org/exporters/page/32/?pid=0&aid=0&cid=0 has been saved to 'company_data.xlsx'.\n"
     ]
    },
    {
     "name": "stderr",
     "output_type": "stream",
     "text": [
      "C:\\Users\\Lenovo\\AppData\\Local\\Temp\\ipykernel_12256\\1781006730.py:45: DeprecationWarning: The 'text' argument to find()-type methods is deprecated. Use 'string' instead.\n",
      "  view = view_tag.find_next(text=True).strip() if view_tag.find_next(text=True) else 'N/A'\n"
     ]
    },
    {
     "name": "stdout",
     "output_type": "stream",
     "text": [
      "Data from https://www.ipcnet.org/exporters/page/33/?pid=0&aid=0&cid=0 has been saved to 'company_data.xlsx'.\n"
     ]
    },
    {
     "name": "stderr",
     "output_type": "stream",
     "text": [
      "C:\\Users\\Lenovo\\AppData\\Local\\Temp\\ipykernel_12256\\1781006730.py:45: DeprecationWarning: The 'text' argument to find()-type methods is deprecated. Use 'string' instead.\n",
      "  view = view_tag.find_next(text=True).strip() if view_tag.find_next(text=True) else 'N/A'\n"
     ]
    },
    {
     "name": "stdout",
     "output_type": "stream",
     "text": [
      "Data from https://www.ipcnet.org/exporters/page/34/?pid=0&aid=0&cid=0 has been saved to 'company_data.xlsx'.\n"
     ]
    },
    {
     "name": "stderr",
     "output_type": "stream",
     "text": [
      "C:\\Users\\Lenovo\\AppData\\Local\\Temp\\ipykernel_12256\\1781006730.py:45: DeprecationWarning: The 'text' argument to find()-type methods is deprecated. Use 'string' instead.\n",
      "  view = view_tag.find_next(text=True).strip() if view_tag.find_next(text=True) else 'N/A'\n"
     ]
    },
    {
     "name": "stdout",
     "output_type": "stream",
     "text": [
      "Data from https://www.ipcnet.org/exporters/page/35/?pid=0&aid=0&cid=0 has been saved to 'company_data.xlsx'.\n"
     ]
    },
    {
     "name": "stderr",
     "output_type": "stream",
     "text": [
      "C:\\Users\\Lenovo\\AppData\\Local\\Temp\\ipykernel_12256\\1781006730.py:45: DeprecationWarning: The 'text' argument to find()-type methods is deprecated. Use 'string' instead.\n",
      "  view = view_tag.find_next(text=True).strip() if view_tag.find_next(text=True) else 'N/A'\n"
     ]
    },
    {
     "name": "stdout",
     "output_type": "stream",
     "text": [
      "Data from https://www.ipcnet.org/exporters/page/36/?pid=0&aid=0&cid=0 has been saved to 'company_data.xlsx'.\n"
     ]
    },
    {
     "name": "stderr",
     "output_type": "stream",
     "text": [
      "C:\\Users\\Lenovo\\AppData\\Local\\Temp\\ipykernel_12256\\1781006730.py:45: DeprecationWarning: The 'text' argument to find()-type methods is deprecated. Use 'string' instead.\n",
      "  view = view_tag.find_next(text=True).strip() if view_tag.find_next(text=True) else 'N/A'\n"
     ]
    },
    {
     "name": "stdout",
     "output_type": "stream",
     "text": [
      "Data from https://www.ipcnet.org/exporters/page/37/?pid=0&aid=0&cid=0 has been saved to 'company_data.xlsx'.\n"
     ]
    },
    {
     "name": "stderr",
     "output_type": "stream",
     "text": [
      "C:\\Users\\Lenovo\\AppData\\Local\\Temp\\ipykernel_12256\\1781006730.py:45: DeprecationWarning: The 'text' argument to find()-type methods is deprecated. Use 'string' instead.\n",
      "  view = view_tag.find_next(text=True).strip() if view_tag.find_next(text=True) else 'N/A'\n"
     ]
    },
    {
     "name": "stdout",
     "output_type": "stream",
     "text": [
      "Data from https://www.ipcnet.org/exporters/page/38/?pid=0&aid=0&cid=0 has been saved to 'company_data.xlsx'.\n"
     ]
    },
    {
     "name": "stderr",
     "output_type": "stream",
     "text": [
      "C:\\Users\\Lenovo\\AppData\\Local\\Temp\\ipykernel_12256\\1781006730.py:45: DeprecationWarning: The 'text' argument to find()-type methods is deprecated. Use 'string' instead.\n",
      "  view = view_tag.find_next(text=True).strip() if view_tag.find_next(text=True) else 'N/A'\n"
     ]
    },
    {
     "name": "stdout",
     "output_type": "stream",
     "text": [
      "Data from https://www.ipcnet.org/exporters/page/39/?pid=0&aid=0&cid=0 has been saved to 'company_data.xlsx'.\n"
     ]
    },
    {
     "name": "stderr",
     "output_type": "stream",
     "text": [
      "C:\\Users\\Lenovo\\AppData\\Local\\Temp\\ipykernel_12256\\1781006730.py:45: DeprecationWarning: The 'text' argument to find()-type methods is deprecated. Use 'string' instead.\n",
      "  view = view_tag.find_next(text=True).strip() if view_tag.find_next(text=True) else 'N/A'\n"
     ]
    },
    {
     "name": "stdout",
     "output_type": "stream",
     "text": [
      "Data from https://www.ipcnet.org/exporters/page/40/?pid=0&aid=0&cid=0 has been saved to 'company_data.xlsx'.\n"
     ]
    },
    {
     "name": "stderr",
     "output_type": "stream",
     "text": [
      "C:\\Users\\Lenovo\\AppData\\Local\\Temp\\ipykernel_12256\\1781006730.py:45: DeprecationWarning: The 'text' argument to find()-type methods is deprecated. Use 'string' instead.\n",
      "  view = view_tag.find_next(text=True).strip() if view_tag.find_next(text=True) else 'N/A'\n"
     ]
    },
    {
     "name": "stdout",
     "output_type": "stream",
     "text": [
      "Data from https://www.ipcnet.org/exporters/page/41/?pid=0&aid=0&cid=0 has been saved to 'company_data.xlsx'.\n"
     ]
    },
    {
     "name": "stderr",
     "output_type": "stream",
     "text": [
      "C:\\Users\\Lenovo\\AppData\\Local\\Temp\\ipykernel_12256\\1781006730.py:45: DeprecationWarning: The 'text' argument to find()-type methods is deprecated. Use 'string' instead.\n",
      "  view = view_tag.find_next(text=True).strip() if view_tag.find_next(text=True) else 'N/A'\n"
     ]
    },
    {
     "name": "stdout",
     "output_type": "stream",
     "text": [
      "Data from https://www.ipcnet.org/exporters/page/42/?pid=0&aid=0&cid=0 has been saved to 'company_data.xlsx'.\n"
     ]
    },
    {
     "name": "stderr",
     "output_type": "stream",
     "text": [
      "C:\\Users\\Lenovo\\AppData\\Local\\Temp\\ipykernel_12256\\1781006730.py:45: DeprecationWarning: The 'text' argument to find()-type methods is deprecated. Use 'string' instead.\n",
      "  view = view_tag.find_next(text=True).strip() if view_tag.find_next(text=True) else 'N/A'\n"
     ]
    },
    {
     "name": "stdout",
     "output_type": "stream",
     "text": [
      "Data from https://www.ipcnet.org/exporters/page/43/?pid=0&aid=0&cid=0 has been saved to 'company_data.xlsx'.\n"
     ]
    },
    {
     "name": "stderr",
     "output_type": "stream",
     "text": [
      "C:\\Users\\Lenovo\\AppData\\Local\\Temp\\ipykernel_12256\\1781006730.py:45: DeprecationWarning: The 'text' argument to find()-type methods is deprecated. Use 'string' instead.\n",
      "  view = view_tag.find_next(text=True).strip() if view_tag.find_next(text=True) else 'N/A'\n"
     ]
    },
    {
     "name": "stdout",
     "output_type": "stream",
     "text": [
      "Data from https://www.ipcnet.org/exporters/page/44/?pid=0&aid=0&cid=0 has been saved to 'company_data.xlsx'.\n"
     ]
    },
    {
     "name": "stderr",
     "output_type": "stream",
     "text": [
      "C:\\Users\\Lenovo\\AppData\\Local\\Temp\\ipykernel_12256\\1781006730.py:45: DeprecationWarning: The 'text' argument to find()-type methods is deprecated. Use 'string' instead.\n",
      "  view = view_tag.find_next(text=True).strip() if view_tag.find_next(text=True) else 'N/A'\n"
     ]
    },
    {
     "name": "stdout",
     "output_type": "stream",
     "text": [
      "Data from https://www.ipcnet.org/exporters/page/45/?pid=0&aid=0&cid=0 has been saved to 'company_data.xlsx'.\n"
     ]
    },
    {
     "name": "stderr",
     "output_type": "stream",
     "text": [
      "C:\\Users\\Lenovo\\AppData\\Local\\Temp\\ipykernel_12256\\1781006730.py:45: DeprecationWarning: The 'text' argument to find()-type methods is deprecated. Use 'string' instead.\n",
      "  view = view_tag.find_next(text=True).strip() if view_tag.find_next(text=True) else 'N/A'\n"
     ]
    },
    {
     "name": "stdout",
     "output_type": "stream",
     "text": [
      "Data from https://www.ipcnet.org/exporters/page/46/?pid=0&aid=0&cid=0 has been saved to 'company_data.xlsx'.\n"
     ]
    },
    {
     "name": "stderr",
     "output_type": "stream",
     "text": [
      "C:\\Users\\Lenovo\\AppData\\Local\\Temp\\ipykernel_12256\\1781006730.py:45: DeprecationWarning: The 'text' argument to find()-type methods is deprecated. Use 'string' instead.\n",
      "  view = view_tag.find_next(text=True).strip() if view_tag.find_next(text=True) else 'N/A'\n"
     ]
    },
    {
     "name": "stdout",
     "output_type": "stream",
     "text": [
      "Data from https://www.ipcnet.org/exporters/page/47/?pid=0&aid=0&cid=0 has been saved to 'company_data.xlsx'.\n"
     ]
    }
   ],
   "source": [
    "import requests\n",
    "from bs4 import BeautifulSoup\n",
    "import pandas as pd\n",
    "import os\n",
    "import numpy as np\n",
    "\n",
    "def fetch_company_data(url):\n",
    "    \"\"\"Fetch company data from a specified URL.\"\"\"\n",
    "    response = requests.get(url)\n",
    "\n",
    "    if response.status_code != 200:\n",
    "        print(f\"Failed to retrieve the webpage: {url}\")\n",
    "        return []\n",
    "\n",
    "    soup = BeautifulSoup(response.content, 'html.parser')\n",
    "    company_divs = soup.find_all('div', class_='company-info')\n",
    "\n",
    "    data_list = []\n",
    "    \n",
    "    for company_info in company_divs:\n",
    "        # Extract company name\n",
    "        company_name = company_info.find('h5').text.strip() if company_info.find('h5') else 'N/A'\n",
    "        \n",
    "        # Extract contact person and email\n",
    "        contact_person = company_info.find_all('p')[0].text.strip() if company_info.find_all('p') else 'N/A'\n",
    "        email_tag = company_info.find('a', href=True)\n",
    "        email = email_tag.text.strip() if email_tag else 'N/A'\n",
    "\n",
    "        # Extract phone, date, and view\n",
    "        phone = 'N/A'\n",
    "        date = 'N/A'\n",
    "        view = 'N/A'\n",
    "\n",
    "        phone_tag = company_info.find('em', class_='fa fa-phone')\n",
    "        if phone_tag:\n",
    "            phone_link = phone_tag.find_next('a')\n",
    "            phone = phone_link.text.strip() if phone_link else 'N/A'\n",
    "\n",
    "        date_tag = company_info.find('em', class_='fa fa-calendar')\n",
    "        if date_tag:\n",
    "            date = date_tag.find_next(text=True).strip() if date_tag.find_next(text=True) else 'N/A'\n",
    "\n",
    "        view_tag = company_info.find('em', class_='fa fa-eye')\n",
    "        if view_tag:\n",
    "            view = view_tag.find_next(text=True).strip() if view_tag.find_next(text=True) else 'N/A'\n",
    "\n",
    "        # Append the company data as a row\n",
    "        data_list.append([company_name, contact_person, email, phone, date, view])\n",
    "\n",
    "    return data_list\n",
    "\n",
    "def save_to_excel(data, filename):\n",
    "    \"\"\"Save the fetched data to an Excel file.\"\"\"\n",
    "    new_data = pd.DataFrame(data, columns=['Company Name', 'Contact Person', 'Email', 'Phone', 'Registration Date', 'Views'])\n",
    "\n",
    "    if os.path.exists(filename):\n",
    "        existing_data = pd.read_excel(filename)\n",
    "        empty_row = pd.DataFrame([[np.nan] * 6], columns=new_data.columns)\n",
    "        updated_data = pd.concat([existing_data, empty_row, new_data], ignore_index=True)\n",
    "    else:\n",
    "        updated_data = new_data\n",
    "\n",
    "    updated_data.to_excel(filename, index=False)\n",
    "\n",
    "# Specify the Excel file name\n",
    "filename = 'company_data.xlsx'\n",
    "\n",
    "# Loop through the specified pages\n",
    "for page in range(1, 48):  # Pages 1 to 47\n",
    "    url = f\"https://www.ipcnet.org/exporters/page/{page}/?pid=0&aid=0&cid=0\"\n",
    "    company_data = fetch_company_data(url)\n",
    "    save_to_excel(company_data, filename)\n",
    "    print(f\"Data from {url} has been saved to '{filename}'.\")"
   ]
  },
  {
   "cell_type": "code",
   "execution_count": null,
   "id": "83da5c0e-3e63-4224-8416-579f220cd813",
   "metadata": {},
   "outputs": [],
   "source": []
  }
 ],
 "metadata": {
  "kernelspec": {
   "display_name": "Python 3 (ipykernel)",
   "language": "python",
   "name": "python3"
  },
  "language_info": {
   "codemirror_mode": {
    "name": "ipython",
    "version": 3
   },
   "file_extension": ".py",
   "mimetype": "text/x-python",
   "name": "python",
   "nbconvert_exporter": "python",
   "pygments_lexer": "ipython3",
   "version": "3.12.4"
  }
 },
 "nbformat": 4,
 "nbformat_minor": 5
}
